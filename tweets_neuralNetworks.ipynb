{
 "cells": [
  {
   "cell_type": "code",
   "execution_count": 1,
   "metadata": {},
   "outputs": [],
   "source": [
    "#tweetlerin veritabanından alınması\n",
    "import numpy as np\n",
    "import pandas as pd\n",
    "import matplotlib.pyplot as plt\n",
    "import nltk\n",
    "import zemberek\n",
    "import jpype,os\n",
    "from nltk.tokenize import word_tokenize\n",
    "from nltk.tokenize import TweetTokenizer\n",
    "from nltk.corpus import stopwords \n",
    "durakwords= set(stopwords.words(\"turkish\"))\n",
    "import string\n",
    "import re\n",
    "from typing import List\n",
    "from jpype import JClass, JString, getDefaultJVMPath, shutdownJVM, startJVM, java\n",
    "from scipy import stats\n",
    "import seaborn as sns\n",
    "from collections import Counter\n",
    "from keras.models import Sequential\n",
    "from keras.layers import Embedding,SpatialDropout1D,LSTM,Dense\n",
    "from keras.callbacks import ModelCheckpoint, EarlyStopping\n",
    "%matplotlib inline\n",
    "df=pd.DataFrame()\n",
    "df=pd.read_csv(\"C:/Users/user/tweets/tweets2.csv\")\n",
    "\n"
   ]
  },
  {
   "cell_type": "code",
   "execution_count": 2,
   "metadata": {},
   "outputs": [],
   "source": [
    "#Tweetlerin küçük harfe dönüştürülmesi\n",
    "df= df.rename(columns = {'hash,content,class': 'tweets'})\n",
    "df['tweets']=df['tweets'].str.lower()"
   ]
  },
  {
   "cell_type": "code",
   "execution_count": 3,
   "metadata": {},
   "outputs": [
    {
     "data": {
      "text/plain": [
       "0        2\n",
       "1        8\n",
       "2        4\n",
       "3        2\n",
       "4        5\n",
       "        ..\n",
       "34995    1\n",
       "34996    1\n",
       "34997    1\n",
       "34998    1\n",
       "34999    1\n",
       "Name: label, Length: 35000, dtype: int64"
      ]
     },
     "execution_count": 3,
     "metadata": {},
     "output_type": "execute_result"
    }
   ],
   "source": [
    "#tweetlerin son değerlerine göre yeni bir dataframe e yerleştirilmesi\n",
    "#1 tek,2 spor,eko,pol,mag,sağ,kült\n",
    "#df[df.tweets.str.endswith('2')]\n",
    "df['icerik']='icerik'\n",
    "df['cleantext']='cleantext'\n",
    "df.loc[df['tweets'].str.endswith('1'),'icerik']=\"teknoloji\"\n",
    "df.loc[df['tweets'].str.endswith('2'),'icerik']=\"spor\"\n",
    "df.loc[df['tweets'].str.endswith('3'),'icerik']=\"ekonomi\"\n",
    "df.loc[df['tweets'].str.endswith('4'),'icerik']=\"politika\"\n",
    "df.loc[df['tweets'].str.endswith('5'),'icerik']=\"magazin\"\n",
    "df.loc[df['tweets'].str.endswith('8'),'icerik']=\"kultur\"\n",
    "df.loc[df['tweets'].str.endswith('7'),'icerik']=\"saglik\"\n",
    "df.loc[df['tweets'].str.endswith('1'),'label']=\"1\"\n",
    "df.loc[df['tweets'].str.endswith('2'),'label']=\"2\"\n",
    "df.loc[df['tweets'].str.endswith('3'),'label']=\"3\"\n",
    "df.loc[df['tweets'].str.endswith('4'),'label']=\"4\"\n",
    "df.loc[df['tweets'].str.endswith('5'),'label']=\"5\"\n",
    "df.loc[df['tweets'].str.endswith('8'),'label']=\"8\"\n",
    "df.loc[df['tweets'].str.endswith('7'),'label']=\"7\"\n",
    "pd.to_numeric(df.label)"
   ]
  },
  {
   "cell_type": "code",
   "execution_count": 4,
   "metadata": {},
   "outputs": [],
   "source": [
    "#Zemberek kütüphanesinin kullanılabilmesi için Jpype ile JVM oluşturulması\n",
    "ZEMBEREK_PATH = r'C:\\Users\\user\\Desktop\\dersler\\tweets\\zemberek-full.jar'\n",
    "startJVM(getDefaultJVMPath(), '-ea', '-Djava.class.path=%s' % (ZEMBEREK_PATH))\n",
    "#Morphology kütüphanesini kullanacağımızdan burada oluşturuyoruz\n",
    "TurkishMorphology = JClass('zemberek.morphology.TurkishMorphology')\n",
    "morphology = TurkishMorphology.createWithDefaults()\n"
   ]
  },
  {
   "cell_type": "code",
   "execution_count": 5,
   "metadata": {},
   "outputs": [],
   "source": [
    "def mentionRemove(text):\n",
    "    text = re.sub(r'@\\w+', '', text)#mentionların çıkartırılması\n",
    "    return text"
   ]
  },
  {
   "cell_type": "code",
   "execution_count": 6,
   "metadata": {},
   "outputs": [],
   "source": [
    "def siteRemove(text):\n",
    "    text = re.sub(r'http.?://[^\\s]+[\\s]?', '', text)#bağlantıların çıkarılması\n",
    "    return text"
   ]
  },
  {
   "cell_type": "code",
   "execution_count": 7,
   "metadata": {},
   "outputs": [],
   "source": [
    "def puncRemove(text):\n",
    "    text = re.sub('[^a-zığüşiöç\\s]', '', text)#özel karakterlerin ve sayıların çıkarılması\n",
    "    text = re.sub(r\"Â\", \"A\", text)#umlautlu karakterlerinn değiştirilmesi\n",
    "    text = re.sub(r\"â\", \"a\", text)\n",
    "    text = re.sub(r\"Î\", \"I\", text)\n",
    "    text = re.sub(r\"î\", \"ı\", text)\n",
    "    text = re.sub(r\"Û\", \"U\", text)\n",
    "    text = re.sub(r\"û\", \"u\", text)\n",
    "\n",
    "    return text"
   ]
  },
  {
   "cell_type": "code",
   "execution_count": null,
   "metadata": {},
   "outputs": [],
   "source": []
  },
  {
   "cell_type": "code",
   "execution_count": 8,
   "metadata": {},
   "outputs": [],
   "source": [
    "def removeSw(text):\n",
    "    text=[w for w in tweet if w.lower() not in durakwords]#stopwordlerin çıkarılması\n",
    "    return text"
   ]
  },
  {
   "cell_type": "code",
   "execution_count": 9,
   "metadata": {},
   "outputs": [],
   "source": [
    "def rootFinder(text):\n",
    "    pos=[]\n",
    "    textlist=text.split(\" \")\n",
    "    analysis: java.util.ArrayList = ( morphology.analyzeAndDisambiguate(text).bestAnalysis() )\n",
    "    for i, analysis in enumerate(analysis, start=1):\n",
    "        f'\\nAnalysis {i}: {analysis}',\n",
    "        f'\\nPrimary POS {i}: {analysis.getPos()}' \n",
    "        if (str(analysis.getLemmas()[0]) == \"UNK\"):\n",
    "            pos.append(textlist[i-1])\n",
    "        else:     \n",
    "            pos.append(f'{str(analysis.getLemmas()[0])}')\n",
    "    return pos\n"
   ]
  },
  {
   "cell_type": "code",
   "execution_count": 10,
   "metadata": {},
   "outputs": [],
   "source": [
    "def emojiRemove(tweet):\n",
    "    # Smile -- :), : ), :-), (:, ( :, (-:, :')\n",
    "    tweet = re.sub(r'(:\\s?\\)|:-\\)|\\(\\s?:|\\(-:|:\\'\\))', ' EMO_POS ', tweet)\n",
    "    # Laugh -- :D, : D, :-D, xD, x-D, XD, X-D\n",
    "    tweet = re.sub(r'(:\\s?D|:-D|x-?D|X-?D)', ' EMO_POS ', tweet)\n",
    "    # Love -- <3, :*\n",
    "    tweet = re.sub(r'(<3|:\\*)', ' EMO_POS ', tweet)\n",
    "    # Wink -- ;-), ;), ;-D, ;D, (;,  (-;\n",
    "    tweet = re.sub(r'(;-?\\)|;-?D|\\(-?;)', ' EMO_POS ', tweet)\n",
    "    # Sad -- :-(, : (, :(, ):, )-:\n",
    "    tweet = re.sub(r'(:\\s?\\(|:-\\(|\\)\\s?:|\\)-:)', ' EMO_NEG ', tweet)\n",
    "    # Cry -- :,(, :'(, :\"(\n",
    "    tweet = re.sub(r'(:,\\(|:\\'\\(|:\"\\()', ' EMO_NEG ', tweet)\n",
    "    return tweet"
   ]
  },
  {
   "cell_type": "code",
   "execution_count": 11,
   "metadata": {},
   "outputs": [],
   "source": [
    "#hash kısmının ve sondaki içerik belirteci ve tweet bağlantısının kaldırılması\n",
    "#utf-16 karakterlerin elenmesi\n",
    "#kelimelerin ayrıştırılması\n",
    "#tweet içerisindeki bağlantıların çıkarılması\n",
    "#tweet içindeki mentionların çıkarılması\n",
    "p=set(string.punctuation)\n",
    "\n",
    "def cleaner(text):\n",
    "    text=text\n",
    "    text=mentionRemove(text)#mentionların çıkartırılması\n",
    "    text=siteRemove(text)#bağlantıların çıkarılması\n",
    "    text=puncRemove(text)#özel karakterlerin ve sayıların çıkarılması\n",
    "    text=emojiRemove(text)\n",
    "    text=rootFinder(text)#kelime köklerinin bulunması\n",
    "    text=removeSw(text)#durak kelimelerin elenmesi\n",
    "    return text\n",
    "for x in range(0,len(df)):\n",
    "    #tweet=\"ve ya da için baba veya\"\n",
    "    tweet=df.iloc[x,0]\n",
    "    tweet=mentionRemove(tweet)#mentionların çıkartırılması\n",
    "    tweet=siteRemove(tweet)#bağlantıların çıkarılması\n",
    "    #tweet.replace(\"aracılığıyla\",\"a\")\n",
    "    tweet=puncRemove(tweet)#özel karakterlerin ve sayıların çıkarılması\n",
    "    tweet=rootFinder(tweet)#kelime köklerinin bulunması\n",
    "    tweet=removeSw(tweet)#durak kelimelerin elenmesi\n",
    "    tweet=' '.join(tweet)\n",
    "    #tweet=cleaner(tweet)\n",
    "    df.iloc[x,2]=tweet\n",
    "    pos=[]\n",
    "\n"
   ]
  },
  {
   "cell_type": "code",
   "execution_count": 12,
   "metadata": {},
   "outputs": [],
   "source": [
    "import matplotlib.pyplot as plt\n",
    "import os\n",
    "import re\n",
    "import shutil\n",
    "import string\n",
    "import tensorflow as tf\n",
    "from tensorflow.keras import regularizers\n",
    "from tensorflow.keras import layers\n",
    "from tensorflow.keras import losses\n",
    "from collections import Counter\n",
    "from sklearn.preprocessing import LabelEncoder\n",
    "from sklearn.model_selection import train_test_split\n",
    "from sklearn.metrics import classification_report\n",
    "from tensorflow.keras.preprocessing.text import Tokenizer\n",
    "from tensorflow.keras.preprocessing.sequence import pad_sequences\n",
    "from sklearn.metrics import accuracy_score,confusion_matrix"
   ]
  },
  {
   "cell_type": "code",
   "execution_count": 13,
   "metadata": {},
   "outputs": [
    {
     "name": "stdout",
     "output_type": "stream",
     "text": [
      "2.3.1\n",
      "please install gpu version of tf\n"
     ]
    }
   ],
   "source": [
    "print(tf.__version__)\n",
    "if tf.test.gpu_device_name():\n",
    "    print(\"gpu device :{}\".format(tf.test.gpu_device_name()))\n",
    "else:\n",
    "    print(\"please install gpu version of tf\")"
   ]
  },
  {
   "cell_type": "code",
   "execution_count": 20,
   "metadata": {},
   "outputs": [],
   "source": [
    "def counter_words(df):\n",
    "    count = Counter()\n",
    "    for i in df:\n",
    "        for w in i.split():\n",
    "            count[w] += 1\n",
    "    return count"
   ]
  },
  {
   "cell_type": "code",
   "execution_count": 29,
   "metadata": {},
   "outputs": [],
   "source": [
    "c=counter_words(df.cleantext)\n",
    "num_words = len(c)\n",
    "max_seq_lenght = 12"
   ]
  },
  {
   "cell_type": "code",
   "execution_count": 30,
   "metadata": {},
   "outputs": [],
   "source": [
    "tweets=df.cleantext\n",
    "labels=df.icerik"
   ]
  },
  {
   "cell_type": "code",
   "execution_count": 31,
   "metadata": {},
   "outputs": [
    {
     "name": "stdout",
     "output_type": "stream",
     "text": [
      "[[23, 68, 334]]\n"
     ]
    }
   ],
   "source": [
    "tokenizer=Tokenizer(num_words=num_words)\n",
    "tokenizer.fit_on_texts(tweets.tolist())\n",
    "\n",
    "print(str(tokenizer.texts_to_sequences([\"fenerbahçe ben sevgili\"])))"
   ]
  },
  {
   "cell_type": "code",
   "execution_count": 32,
   "metadata": {},
   "outputs": [
    {
     "name": "stdout",
     "output_type": "stream",
     "text": [
      "Train data len: 24500\n",
      "labels:  Counter({'teknoloji': 3500, 'spor': 3500, 'politika': 3500, 'kultur': 3500, 'magazin': 3500, 'saglik': 3500, 'ekonomi': 3500})\n",
      "test data len: 10500\n",
      "labels:  Counter({'magazin': 1500, 'teknoloji': 1500, 'saglik': 1500, 'politika': 1500, 'kultur': 1500, 'ekonomi': 1500, 'spor': 1500})\n"
     ]
    }
   ],
   "source": [
    "X_train, X_test, Y_train, Y_test = train_test_split(tweets.tolist(),labels.tolist(), test_size = 0.3,stratify=labels.tolist(),\n",
    "                                                    random_state = 44)\n",
    "print('Train data len: '+ str(len(X_train)))\n",
    "print('labels: ', Counter(Y_train))\n",
    "print('test data len: '+ str(len(X_test)))\n",
    "print('labels: ' ,Counter(Y_test))"
   ]
  },
  {
   "cell_type": "code",
   "execution_count": 33,
   "metadata": {},
   "outputs": [],
   "source": [
    "X_train=np.array(tokenizer.texts_to_sequences(X_train))\n",
    "X_test=np.array(tokenizer.texts_to_sequences(X_test))\n",
    "#Y_train=np.array(tokenizer.texts_to_sequences(Y_train))\n",
    "X_train=pad_sequences(X_train, padding = 'post',maxlen=max_seq_lenght,truncating=\"post\")\n",
    "X_test=pad_sequences(X_test, padding = 'post',maxlen=max_seq_lenght,truncating=\"post\")"
   ]
  },
  {
   "cell_type": "code",
   "execution_count": 34,
   "metadata": {},
   "outputs": [
    {
     "name": "stdout",
     "output_type": "stream",
     "text": [
      "[  122  2777   207 10413   807   477   734   207    54    21     0     0]\n",
      "['teknoloji', 'spor', 'politika', 'kultur', 'kultur', 'magazin', 'teknoloji', 'spor', 'teknoloji', 'politika']\n"
     ]
    },
    {
     "data": {
      "text/plain": [
       "<function print>"
      ]
     },
     "execution_count": 34,
     "metadata": {},
     "output_type": "execute_result"
    }
   ],
   "source": [
    "print(X_train[1])\n",
    "print(Y_train[:10])"
   ]
  },
  {
   "cell_type": "code",
   "execution_count": 35,
   "metadata": {},
   "outputs": [
    {
     "name": "stdout",
     "output_type": "stream",
     "text": [
      "[6 5 3 ... 5 4 6]\n",
      "[[0. 0. 0. ... 0. 0. 1.]\n",
      " [0. 0. 0. ... 0. 1. 0.]\n",
      " [0. 0. 0. ... 0. 0. 0.]\n",
      " ...\n",
      " [0. 0. 0. ... 0. 1. 0.]\n",
      " [0. 0. 0. ... 1. 0. 0.]\n",
      " [0. 0. 0. ... 0. 0. 1.]]\n"
     ]
    },
    {
     "data": {
      "text/plain": [
       "['ekonomi', 'kultur', 'magazin', 'politika', 'saglik', 'spor', 'teknoloji']"
      ]
     },
     "execution_count": 35,
     "metadata": {},
     "output_type": "execute_result"
    }
   ],
   "source": [
    "le = LabelEncoder()\n",
    "train_labels=le.fit_transform(Y_train)\n",
    "print(train_labels)\n",
    "train_labels=np.asarray(tf.keras.utils.to_categorical(train_labels))\n",
    "print(train_labels)\n",
    "test_labels=le.fit_transform(Y_test)\n",
    "test_labels=np.asarray(tf.keras.utils.to_categorical(test_labels))\n",
    "list(le.classes_)"
   ]
  },
  {
   "cell_type": "code",
   "execution_count": 36,
   "metadata": {},
   "outputs": [],
   "source": [
    "train_ds=tf.data.Dataset.from_tensor_slices((X_train,train_labels))\n",
    "test_ds=tf.data.Dataset.from_tensor_slices((X_test,test_labels))"
   ]
  },
  {
   "cell_type": "code",
   "execution_count": 37,
   "metadata": {},
   "outputs": [
    {
     "data": {
      "text/plain": [
       "array([[0., 0., 0., ..., 0., 0., 1.],\n",
       "       [0., 0., 0., ..., 0., 1., 0.],\n",
       "       [0., 0., 0., ..., 0., 0., 0.],\n",
       "       ...,\n",
       "       [0., 0., 0., ..., 0., 1., 0.],\n",
       "       [0., 0., 0., ..., 1., 0., 0.],\n",
       "       [0., 0., 0., ..., 0., 0., 1.]], dtype=float32)"
      ]
     },
     "execution_count": 37,
     "metadata": {},
     "output_type": "execute_result"
    }
   ],
   "source": [
    "train_labels=np.asarray(tf.keras.utils.to_categorical(le.fit_transform(Y_train)))\n",
    "train_labels"
   ]
  },
  {
   "cell_type": "code",
   "execution_count": 38,
   "metadata": {},
   "outputs": [
    {
     "name": "stdout",
     "output_type": "stream",
     "text": [
      "18507\n",
      "Model: \"sequential\"\n",
      "_________________________________________________________________\n",
      "Layer (type)                 Output Shape              Param #   \n",
      "=================================================================\n",
      "embedding (Embedding)        (None, 12, 100)           1850800   \n",
      "_________________________________________________________________\n",
      "conv1d (Conv1D)              (None, 6, 128)            89728     \n",
      "_________________________________________________________________\n",
      "global_max_pooling1d (Global (None, 128)               0         \n",
      "_________________________________________________________________\n",
      "dropout (Dropout)            (None, 128)               0         \n",
      "_________________________________________________________________\n",
      "dense (Dense)                (None, 7)                 903       \n",
      "=================================================================\n",
      "Total params: 1,941,431\n",
      "Trainable params: 1,941,431\n",
      "Non-trainable params: 0\n",
      "_________________________________________________________________\n"
     ]
    }
   ],
   "source": [
    "num_words = len(c)\n",
    "# Max number of words in each complaint.\n",
    "max_seq_lenght = 12\n",
    "# This is fixed.\n",
    "dim = 100\n",
    "print(len(c))\n",
    "model = tf.keras.Sequential()\n",
    "model.add(tf.keras.layers.Embedding(num_words+1,dim,input_length=max_seq_lenght,embeddings_regularizer=regularizers.l2(0.0001)))\n",
    "model.add(tf.keras.layers.Conv1D(128,7,activation='relu',kernel_regularizer=regularizers.l2(0.0001),bias_regularizer=regularizers.l2(0.0001)))\n",
    "model.add(tf.keras.layers.GlobalMaxPooling1D())\n",
    "model.add(tf.keras.layers.Dropout(0.2))\n",
    "model.add(tf.keras.layers.Dense(7,activation='sigmoid',kernel_regularizer=regularizers.l2(0.001),bias_regularizer=regularizers.l2(0.001)))\n",
    "model.summary()"
   ]
  },
  {
   "cell_type": "code",
   "execution_count": 39,
   "metadata": {},
   "outputs": [],
   "source": [
    "model.compile(loss=tf.keras.losses.CategoricalCrossentropy(),optimizer='Adam',metrics=[\"CategoricalAccuracy\"])"
   ]
  },
  {
   "cell_type": "code",
   "execution_count": 40,
   "metadata": {},
   "outputs": [
    {
     "name": "stdout",
     "output_type": "stream",
     "text": [
      "Epoch 1/10\n"
     ]
    },
    {
     "name": "stderr",
     "output_type": "stream",
     "text": [
      "C:\\Users\\user\\anaconda3\\lib\\site-packages\\tensorflow\\python\\framework\\indexed_slices.py:432: UserWarning: Converting sparse IndexedSlices to a dense Tensor of unknown shape. This may consume a large amount of memory.\n",
      "  warnings.warn(\n"
     ]
    },
    {
     "name": "stdout",
     "output_type": "stream",
     "text": [
      "192/192 [==============================] - 3s 18ms/step - loss: 1.4553 - categorical_accuracy: 0.5222 - val_loss: 0.7982 - val_categorical_accuracy: 0.7841\n",
      "Epoch 2/10\n",
      "192/192 [==============================] - 3s 17ms/step - loss: 0.6752 - categorical_accuracy: 0.8269 - val_loss: 0.7133 - val_categorical_accuracy: 0.8143\n",
      "Epoch 3/10\n",
      "192/192 [==============================] - 3s 17ms/step - loss: 0.5078 - categorical_accuracy: 0.8949 - val_loss: 0.7417 - val_categorical_accuracy: 0.8150\n",
      "Epoch 4/10\n",
      "192/192 [==============================] - 3s 17ms/step - loss: 0.4347 - categorical_accuracy: 0.9252 - val_loss: 0.7836 - val_categorical_accuracy: 0.8116\n",
      "Epoch 5/10\n",
      "192/192 [==============================] - 3s 17ms/step - loss: 0.3936 - categorical_accuracy: 0.9454 - val_loss: 0.8155 - val_categorical_accuracy: 0.8078\n",
      "Epoch 6/10\n",
      "192/192 [==============================] - 3s 17ms/step - loss: 0.3640 - categorical_accuracy: 0.9571 - val_loss: 0.8405 - val_categorical_accuracy: 0.8067\n",
      "Epoch 7/10\n",
      "192/192 [==============================] - 3s 17ms/step - loss: 0.3483 - categorical_accuracy: 0.9648 - val_loss: 0.8622 - val_categorical_accuracy: 0.8052\n",
      "Epoch 8/10\n",
      "192/192 [==============================] - 3s 17ms/step - loss: 0.3379 - categorical_accuracy: 0.9688 - val_loss: 0.8786 - val_categorical_accuracy: 0.8055\n",
      "Epoch 9/10\n",
      "192/192 [==============================] - 3s 17ms/step - loss: 0.3256 - categorical_accuracy: 0.9740 - val_loss: 0.8969 - val_categorical_accuracy: 0.7988\n",
      "Epoch 10/10\n",
      "192/192 [==============================] - 3s 17ms/step - loss: 0.3183 - categorical_accuracy: 0.9764 - val_loss: 0.9011 - val_categorical_accuracy: 0.8019\n"
     ]
    }
   ],
   "source": [
    "epochs=10\n",
    "history=model.fit(train_ds.batch(128),epochs=epochs,validation_data=test_ds.batch(128),verbose=1)"
   ]
  },
  {
   "cell_type": "code",
   "execution_count": 1,
   "metadata": {},
   "outputs": [
    {
     "ename": "NameError",
     "evalue": "name 'tokenizer' is not defined",
     "output_type": "error",
     "traceback": [
      "\u001b[1;31m---------------------------------------------------------------------------\u001b[0m",
      "\u001b[1;31mNameError\u001b[0m                                 Traceback (most recent call last)",
      "\u001b[1;32m<ipython-input-1-9a62286cc1ad>\u001b[0m in \u001b[0;36m<module>\u001b[1;34m\u001b[0m\n\u001b[0;32m      1\u001b[0m \u001b[0mnew_complaint\u001b[0m \u001b[1;33m=\u001b[0m \u001b[1;33m[\u001b[0m\u001b[1;34m'erdoğan hastane millet millet oy'\u001b[0m\u001b[1;33m]\u001b[0m\u001b[1;33m\u001b[0m\u001b[1;33m\u001b[0m\u001b[0m\n\u001b[1;32m----> 2\u001b[1;33m \u001b[0mseq\u001b[0m \u001b[1;33m=\u001b[0m \u001b[0mtokenizer\u001b[0m\u001b[1;33m.\u001b[0m\u001b[0mtexts_to_sequences\u001b[0m\u001b[1;33m(\u001b[0m\u001b[0mnew_complaint\u001b[0m\u001b[1;33m)\u001b[0m\u001b[1;33m\u001b[0m\u001b[1;33m\u001b[0m\u001b[0m\n\u001b[0m\u001b[0;32m      3\u001b[0m \u001b[0mpadded\u001b[0m \u001b[1;33m=\u001b[0m \u001b[0mpad_sequences\u001b[0m\u001b[1;33m(\u001b[0m\u001b[0mseq\u001b[0m\u001b[1;33m,\u001b[0m \u001b[0mmaxlen\u001b[0m\u001b[1;33m=\u001b[0m\u001b[0mmax_seq_lenght\u001b[0m\u001b[1;33m)\u001b[0m\u001b[1;33m\u001b[0m\u001b[1;33m\u001b[0m\u001b[0m\n\u001b[0;32m      4\u001b[0m \u001b[0mpred\u001b[0m \u001b[1;33m=\u001b[0m \u001b[0mmodel\u001b[0m\u001b[1;33m.\u001b[0m\u001b[0mpredict\u001b[0m\u001b[1;33m(\u001b[0m\u001b[0mpadded\u001b[0m\u001b[1;33m)\u001b[0m\u001b[1;33m\u001b[0m\u001b[1;33m\u001b[0m\u001b[0m\n\u001b[0;32m      5\u001b[0m \u001b[0mlabels\u001b[0m \u001b[1;33m=\u001b[0m \u001b[1;33m[\u001b[0m\u001b[1;34m'ekonomi'\u001b[0m\u001b[1;33m,\u001b[0m \u001b[1;34m'kultur'\u001b[0m\u001b[1;33m,\u001b[0m \u001b[1;34m'magazin'\u001b[0m\u001b[1;33m,\u001b[0m \u001b[1;34m'politika'\u001b[0m\u001b[1;33m,\u001b[0m \u001b[1;34m'saglik'\u001b[0m\u001b[1;33m,\u001b[0m \u001b[1;34m'spor'\u001b[0m\u001b[1;33m,\u001b[0m \u001b[1;34m'teknoloji'\u001b[0m\u001b[1;33m]\u001b[0m\u001b[1;33m\u001b[0m\u001b[1;33m\u001b[0m\u001b[0m\n",
      "\u001b[1;31mNameError\u001b[0m: name 'tokenizer' is not defined"
     ]
    }
   ],
   "source": [
    "new_complaint = ['erdoğan hastane millet millet oy']\n",
    "seq = tokenizer.texts_to_sequences(new_complaint)\n",
    "padded = pad_sequences(seq, maxlen=max_seq_lenght)\n",
    "pred = model.predict(padded)\n",
    "labels = ['ekonomi', 'kultur', 'magazin', 'politika', 'saglik', 'spor', 'teknoloji']\n",
    "print(pred, labels[np.argmax(pred)])"
   ]
  },
  {
   "cell_type": "code",
   "execution_count": 69,
   "metadata": {},
   "outputs": [
    {
     "name": "stdout",
     "output_type": "stream",
     "text": [
      "accuracy score is 0.8019047619047619\n"
     ]
    }
   ],
   "source": [
    "preds=model.predict(X_test)\n",
    "preds=preds.argmax(axis=1)\n",
    "actual=le.fit_transform(Y_test)\n",
    "print(\"accuracy score is\",accuracy_score(preds,actual))"
   ]
  },
  {
   "cell_type": "code",
   "execution_count": 70,
   "metadata": {},
   "outputs": [
    {
     "name": "stdout",
     "output_type": "stream",
     "text": [
      "              precision    recall  f1-score   support\n",
      "\n",
      "     ekonomi       0.77      0.76      0.76      1500\n",
      "      kultur       0.74      0.74      0.74      1500\n",
      "     magazin       0.74      0.77      0.75      1500\n",
      "    politika       0.82      0.83      0.83      1500\n",
      "      saglik       0.86      0.79      0.82      1500\n",
      "        spor       0.87      0.89      0.88      1500\n",
      "   teknoloji       0.82      0.85      0.83      1500\n",
      "\n",
      "    accuracy                           0.80     10500\n",
      "   macro avg       0.80      0.80      0.80     10500\n",
      "weighted avg       0.80      0.80      0.80     10500\n",
      "\n"
     ]
    }
   ],
   "source": [
    "print(classification_report(actual, preds,target_names=['ekonomi', 'kultur', 'magazin', 'politika', 'saglik', 'spor', 'teknoloji']))"
   ]
  },
  {
   "cell_type": "code",
   "execution_count": 71,
   "metadata": {},
   "outputs": [
    {
     "name": "stdout",
     "output_type": "stream",
     "text": [
      "2021-01-25 21:51:16,849 - numexpr.utils - INFO\n",
      "Msg: NumExpr defaulting to 8 threads.\n",
      "\n"
     ]
    },
    {
     "data": {
      "image/png": "[encoded data removed]",
      "text/plain": [
       "<Figure size 1080x1080 with 2 Axes>"
      ]
     },
     "metadata": {
      "needs_background": "light"
     },
     "output_type": "display_data"
    }
   ],
   "source": [
    "conf_mat = confusion_matrix(actual,preds)\n",
    "fig, ax = plt.subplots(figsize=(15,15))\n",
    "sns.heatmap(conf_mat, annot=True, cmap=\"Blues\", fmt='d',\n",
    "            xticklabels={'ekonomi', 'kultur', 'magazin', 'politika', 'saglik', 'spor', 'teknoloji'},\n",
    "            yticklabels={'ekonomi', 'kultur', 'magazin', 'politika', 'saglik', 'spor', 'teknoloji'})\n",
    "plt.ylabel('Actual')\n",
    "plt.xlabel('Predicted')\n",
    "plt.title(\"CONFUSION MATRIX\\n\", size=16);"
   ]
  },
  {
   "cell_type": "code",
   "execution_count": null,
   "metadata": {},
   "outputs": [],
   "source": [
    "pred=model.predict()"
   ]
  },
  {
   "cell_type": "code",
   "execution_count": null,
   "metadata": {},
   "outputs": [],
   "source": []
  }
 ],
 "metadata": {
  "kernelspec": {
   "display_name": "Python 3",
   "language": "python",
   "name": "python3"
  },
  "language_info": {
   "codemirror_mode": {
    "name": "ipython",
    "version": 3
   },
   "file_extension": ".py",
   "mimetype": "text/x-python",
   "name": "python",
   "nbconvert_exporter": "python",
   "pygments_lexer": "ipython3",
   "version": "3.8.8"
  }
 },
 "nbformat": 4,
 "nbformat_minor": 4
}
